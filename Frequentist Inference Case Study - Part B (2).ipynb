{
 "cells": [
  {
   "cell_type": "markdown",
   "metadata": {},
   "source": [
    "# Frequentist Inference Case Study - Part B"
   ]
  },
  {
   "cell_type": "markdown",
   "metadata": {},
   "source": [
    "## Learning objectives"
   ]
  },
  {
   "cell_type": "markdown",
   "metadata": {},
   "source": [
    "Welcome to Part B of the Frequentist inference case study! The purpose of this case study is to help you apply the concepts associated with Frequentist inference in Python. In particular, you'll practice writing Python code to apply the following statistical concepts: \n",
    "* the _z_-statistic\n",
    "* the _t_-statistic\n",
    "* the difference and relationship between the two\n",
    "* the Central Limit Theorem, including its assumptions and consequences\n",
    "* how to estimate the population mean and standard deviation from a sample\n",
    "* the concept of a sampling distribution of a test statistic, particularly for the mean\n",
    "* how to combine these concepts to calculate a confidence interval"
   ]
  },
  {
   "cell_type": "markdown",
   "metadata": {},
   "source": [
    "In the previous notebook, we used only data from a known normal distribution. **You'll now tackle real data, rather than simulated data, and answer some relevant real-world business problems using the data.**"
   ]
  },
  {
   "cell_type": "markdown",
   "metadata": {},
   "source": [
    "## Hospital medical charges"
   ]
  },
  {
   "cell_type": "markdown",
   "metadata": {},
   "source": [
    "Imagine that a hospital has hired you as their data scientist. An administrator is working on the hospital's business operations plan and needs you to help them answer some business questions. \n",
    "\n",
    "In this assignment notebook, you're going to use frequentist statistical inference on a data sample to answer the questions:\n",
    "* has the hospital's revenue stream fallen below a key threshold?\n",
    "* are patients with insurance really charged different amounts than those without?\n",
    "\n",
    "Answering that last question with a frequentist approach makes some assumptions, and requires some knowledge, about the two groups."
   ]
  },
  {
   "cell_type": "markdown",
   "metadata": {},
   "source": [
    "We are going to use some data on medical charges obtained from [Kaggle](https://www.kaggle.com/easonlai/sample-insurance-claim-prediction-dataset). \n",
    "\n",
    "For the purposes of this exercise, assume the observations are the result of random sampling from our single hospital. Recall that in the previous assignment, we introduced the Central Limit Theorem (CLT), and its consequence that the distributions of sample statistics approach a normal distribution as $n$ increases. The amazing thing about this is that it applies to the sampling distributions of statistics that have been calculated from even highly non-normal distributions of data! Recall, also, that hypothesis testing is very much based on making inferences about such sample statistics. You're going to rely heavily on the CLT to apply frequentist (parametric) tests to answer the questions in this notebook."
   ]
  },
  {
   "cell_type": "code",
   "execution_count": 29,
   "metadata": {},
   "outputs": [],
   "source": [
    "import pandas as pd\n",
    "import numpy as np\n",
    "import matplotlib.pyplot as plt\n",
    "\n",
    "from scipy.stats import t\n",
    "from scipy.stats import norm\n",
    "from numpy.random import seed\n",
    "\n",
    "medical = pd.read_csv('/Users/lindsaytruax/Desktop/SQL/Frequentist_Case_Study/insurance2.csv')\n",
    "medical_copy = medical.copy()"
   ]
  },
  {
   "cell_type": "code",
   "execution_count": 31,
   "metadata": {},
   "outputs": [
    {
     "data": {
      "text/plain": [
       "(1338, 8)"
      ]
     },
     "execution_count": 31,
     "metadata": {},
     "output_type": "execute_result"
    }
   ],
   "source": [
    "medical.shape"
   ]
  },
  {
   "cell_type": "code",
   "execution_count": 33,
   "metadata": {},
   "outputs": [
    {
     "data": {
      "text/html": [
       "<div>\n",
       "<style scoped>\n",
       "    .dataframe tbody tr th:only-of-type {\n",
       "        vertical-align: middle;\n",
       "    }\n",
       "\n",
       "    .dataframe tbody tr th {\n",
       "        vertical-align: top;\n",
       "    }\n",
       "\n",
       "    .dataframe thead th {\n",
       "        text-align: right;\n",
       "    }\n",
       "</style>\n",
       "<table border=\"1\" class=\"dataframe\">\n",
       "  <thead>\n",
       "    <tr style=\"text-align: right;\">\n",
       "      <th></th>\n",
       "      <th>age</th>\n",
       "      <th>sex</th>\n",
       "      <th>bmi</th>\n",
       "      <th>children</th>\n",
       "      <th>smoker</th>\n",
       "      <th>region</th>\n",
       "      <th>charges</th>\n",
       "      <th>insuranceclaim</th>\n",
       "    </tr>\n",
       "  </thead>\n",
       "  <tbody>\n",
       "    <tr>\n",
       "      <th>0</th>\n",
       "      <td>19</td>\n",
       "      <td>0</td>\n",
       "      <td>27.900</td>\n",
       "      <td>0</td>\n",
       "      <td>1</td>\n",
       "      <td>3</td>\n",
       "      <td>16884.92400</td>\n",
       "      <td>1</td>\n",
       "    </tr>\n",
       "    <tr>\n",
       "      <th>1</th>\n",
       "      <td>18</td>\n",
       "      <td>1</td>\n",
       "      <td>33.770</td>\n",
       "      <td>1</td>\n",
       "      <td>0</td>\n",
       "      <td>2</td>\n",
       "      <td>1725.55230</td>\n",
       "      <td>1</td>\n",
       "    </tr>\n",
       "    <tr>\n",
       "      <th>2</th>\n",
       "      <td>28</td>\n",
       "      <td>1</td>\n",
       "      <td>33.000</td>\n",
       "      <td>3</td>\n",
       "      <td>0</td>\n",
       "      <td>2</td>\n",
       "      <td>4449.46200</td>\n",
       "      <td>0</td>\n",
       "    </tr>\n",
       "    <tr>\n",
       "      <th>3</th>\n",
       "      <td>33</td>\n",
       "      <td>1</td>\n",
       "      <td>22.705</td>\n",
       "      <td>0</td>\n",
       "      <td>0</td>\n",
       "      <td>1</td>\n",
       "      <td>21984.47061</td>\n",
       "      <td>0</td>\n",
       "    </tr>\n",
       "    <tr>\n",
       "      <th>4</th>\n",
       "      <td>32</td>\n",
       "      <td>1</td>\n",
       "      <td>28.880</td>\n",
       "      <td>0</td>\n",
       "      <td>0</td>\n",
       "      <td>1</td>\n",
       "      <td>3866.85520</td>\n",
       "      <td>1</td>\n",
       "    </tr>\n",
       "  </tbody>\n",
       "</table>\n",
       "</div>"
      ],
      "text/plain": [
       "   age  sex     bmi  children  smoker  region      charges  insuranceclaim\n",
       "0   19    0  27.900         0       1       3  16884.92400               1\n",
       "1   18    1  33.770         1       0       2   1725.55230               1\n",
       "2   28    1  33.000         3       0       2   4449.46200               0\n",
       "3   33    1  22.705         0       0       1  21984.47061               0\n",
       "4   32    1  28.880         0       0       1   3866.85520               1"
      ]
     },
     "execution_count": 33,
     "metadata": {},
     "output_type": "execute_result"
    }
   ],
   "source": [
    "medical.head()"
   ]
  },
  {
   "cell_type": "markdown",
   "metadata": {},
   "source": [
    "__Q1:__ Plot the histogram of charges and calculate the mean and standard deviation. Comment on the appropriateness of these statistics for the data."
   ]
  },
  {
   "cell_type": "markdown",
   "metadata": {},
   "source": [
    "__A:__"
   ]
  },
  {
   "cell_type": "code",
   "execution_count": 37,
   "metadata": {},
   "outputs": [
    {
     "data": {
      "image/png": "[encoded data removed]",
      "text/plain": [
       "<Figure size 1400x800 with 9 Axes>"
      ]
     },
     "metadata": {},
     "output_type": "display_data"
    }
   ],
   "source": [
    "#only num from the DF\n",
    "medical_data = medical_copy.select_dtypes(include='number')\n",
    "\n",
    "medical_data.hist(figsize=(14, 8), bins=50, color='b')\n",
    "plt.tight_layout()\n",
    "plt.show()"
   ]
  },
  {
   "cell_type": "code",
   "execution_count": 38,
   "metadata": {},
   "outputs": [
    {
     "name": "stdout",
     "output_type": "stream",
     "text": [
      "This is the Mean of the Medical Data:  1668.0248146262145\n",
      "This is the Standard Deviation of the Medical Data:\n",
      " age                  14.044709\n",
      "sex                   0.499973\n",
      "bmi                   6.095908\n",
      "children              1.205042\n",
      "smoker                0.403543\n",
      "region                1.104472\n",
      "charges           12105.484976\n",
      "insuranceclaim        0.492687\n",
      "dtype: float64\n"
     ]
    },
    {
     "name": "stderr",
     "output_type": "stream",
     "text": [
      "/opt/anaconda3/lib/python3.11/site-packages/numpy/core/fromnumeric.py:3643: FutureWarning: The behavior of DataFrame.std with axis=None is deprecated, in a future version this will reduce over both axes and return a scalar. To retain the old behavior, pass axis=0 (or do not pass axis)\n",
      "  return std(axis=axis, dtype=dtype, out=out, ddof=ddof, **kwargs)\n"
     ]
    }
   ],
   "source": [
    "mean_medical = np.mean(medical_copy)\n",
    "print(\"This is the Mean of the Medical Data: \", mean_medical)\n",
    "\n",
    "std_medical = np.std(medical_copy)\n",
    "print(\"This is the Standard Deviation of the Medical Data:\\n\", std_medical)\n",
    "\n",
    "#This shows the distribuation of how each patient lives their lives. We show a range of individuals who smoke, who is children, their \n",
    "#charges and insureance claims. The inquire if the data is appropriate is such a broad and vague request. \n",
    "\n",
    "#I checked the mean of data, std for each column and graphed to see how people are charged to how they live their life.\n"
   ]
  },
  {
   "cell_type": "markdown",
   "metadata": {},
   "source": [
    "__Q2:__ The administrator is concerned that the actual average charge has fallen below 12,000, threatening the hospital's operational model. On the assumption that these data represent a random sample of charges, how would you justify that these data allow you to answer that question? And what would be the most appropriate frequentist test, of the ones discussed so far, to apply?"
   ]
  },
  {
   "cell_type": "markdown",
   "metadata": {},
   "source": [
    "__A:__ \n",
    "\n",
    "how would you justify that these data allow you to answer that question? The average show is 12105.48 and I would want to compare it to data that admin is comparing it too. Also, are these charges to the insurance or individual; and do they get charges monthly or yearly. I think there would need to be more analysis on what's the average charge for and if there are things not being charged. Also, what's the baseline of what Admin believes the hospital needs to maintain itself in the green. \n",
    "\n",
    "And what would be the most appropriate frequentist test, of the ones discussed so far, to apply?\n",
    "I think Comparing the charges to what individuals are being charged for. The extra step is to check the insurance claims and why.  "
   ]
  },
  {
   "cell_type": "markdown",
   "metadata": {},
   "source": [
    "__Q3:__ Given the nature of the administrator's concern, what is the appropriate confidence interval in this case? A ***one-sided*** or ***two-sided*** interval? (Refresh your understanding of this concept on p. 399 of the *AoS*). Calculate the critical value and the relevant 95% confidence interval for the mean, and comment on whether the administrator should be concerned."
   ]
  },
  {
   "cell_type": "markdown",
   "metadata": {},
   "source": [
    "__A:__ Per the Analysis of page 399 tht goes over one-sided or two-sided p-value. Since There is a broad amount of data (small and large), all that might affect the understanding of how cost might be affect. I would reccommend two-sided p-value."
   ]
  },
  {
   "cell_type": "code",
   "execution_count": 45,
   "metadata": {},
   "outputs": [
    {
     "name": "stdout",
     "output_type": "stream",
     "text": [
      "Column: age\n",
      "Mean: 39.20702541106129\n",
      "Standard Deviation: 14.049960379216172\n",
      "95% Confidence Interval: (38.453516373452935, 39.96053444866964)\n",
      "\n",
      "Column: sex\n",
      "Mean: 0.5052316890881914\n",
      "Standard Deviation: 0.5001595692843718\n",
      "95% Confidence Interval: (0.47840778741658396, 0.5320555907597988)\n",
      "\n",
      "Column: bmi\n",
      "Mean: 30.66339686098655\n",
      "Standard Deviation: 6.098186911679017\n",
      "95% Confidence Interval: (30.336346903054107, 30.99044681891899)\n",
      "\n",
      "Column: children\n",
      "Mean: 1.0949177877429\n",
      "Standard Deviation: 1.2054927397819095\n",
      "95% Confidence Interval: (1.0302663830641632, 1.1595691924216367)\n",
      "\n",
      "Column: smoker\n",
      "Mean: 0.20478325859491778\n",
      "Standard Deviation: 0.40369403754562083\n",
      "95% Confidence Interval: (0.1831328697319564, 0.22643364745787917)\n",
      "\n",
      "Column: region\n",
      "Mean: 1.515695067264574\n",
      "Standard Deviation: 1.1048849185826988\n",
      "95% Confidence Interval: (1.4564393292269926, 1.5749508053021553)\n",
      "\n",
      "Column: charges\n",
      "Mean: 13270.422265141257\n",
      "Standard Deviation: 12110.011236693996\n",
      "95% Confidence Interval: (12620.954034192644, 13919.890496089869)\n",
      "\n",
      "Column: insuranceclaim\n",
      "Mean: 0.5852017937219731\n",
      "Standard Deviation: 0.4928713935274956\n",
      "95% Confidence Interval: (0.5587687619284479, 0.6116348255154983)\n",
      "\n"
     ]
    }
   ],
   "source": [
    "numeric_columns = medical_copy.select_dtypes(include='number').columns\n",
    "\n",
    "\n",
    "#attempted to streamline data\n",
    "def analyze_column(medical_copy, confidence_level=0.95):\n",
    "    mean_val = np.mean(medical_copy)\n",
    "    std_val = np.std(medical_copy, ddof=1)\n",
    "    n = len(medical_copy)\n",
    "    sem = std_val / np.sqrt(n)\n",
    "\n",
    "#t-critical amount\n",
    "    t_critical = t.ppf((1+ confidence_level) / 2, n-1)\n",
    "\n",
    "#margin of error\n",
    "    Margin_error = t_critical * sem\n",
    "\n",
    "#confidence interval\n",
    "    confidence_interval = (mean_val - Margin_error, mean_val + Margin_error)\n",
    "\n",
    "    return {\n",
    "        \"mean\": mean_val,\n",
    "        \"std_dev\": std_val,\n",
    "        \"confidence_interval\": confidence_interval\n",
    "    }\n",
    "\n",
    "analysis_results = {}\n",
    "\n",
    "for column in numeric_columns:\n",
    "    analysis_results[column] = analyze_column(medical_copy[column])\n",
    "\n",
    "for column, results in analysis_results.items():\n",
    "    print(f\"Column: {column}\")\n",
    "    print(f\"Mean: {results['mean']}\")\n",
    "    print(f\"Standard Deviation: {results['std_dev']}\")\n",
    "    print(f\"95% Confidence Interval: {results['confidence_interval']}\\n\")"
   ]
  },
  {
   "cell_type": "code",
   "execution_count": 47,
   "metadata": {},
   "outputs": [
    {
     "ename": "SyntaxError",
     "evalue": "invalid decimal literal (2448801247.py, line 4)",
     "output_type": "error",
     "traceback": [
      "\u001b[0;36m  Cell \u001b[0;32mIn[47], line 4\u001b[0;36m\u001b[0m\n\u001b[0;31m    The mean shows 13K and I would say Admin shouldn't be overly worried. Perhaps they should think of a way to bring in more profit if this\u001b[0m\n\u001b[0m                    ^\u001b[0m\n\u001b[0;31mSyntaxError\u001b[0m\u001b[0;31m:\u001b[0m invalid decimal literal\n"
     ]
    }
   ],
   "source": [
    "#should admin be concerned.\n",
    "Do I believe that Admin should be worried? \n",
    "\n",
    "The mean shows 13K and I would say Admin shouldn't be overly worried. Perhaps they should think of a way to bring in more profit if this\n",
    "doesn't include what insurance is charged.\n"
   ]
  },
  {
   "cell_type": "markdown",
   "metadata": {},
   "source": [
    "The administrator then wants to know whether people with insurance really are charged a different amount to those without.\n",
    "\n",
    "__Q4:__ State the null and alternative hypothesis here. Use the _t_-test for the difference between means, where the pooled standard deviation of the two groups is given by:\n",
    "\\begin{equation}\n",
    "s_p = \\sqrt{\\frac{(n_0 - 1)s^2_0 + (n_1 - 1)s^2_1}{n_0 + n_1 - 2}}\n",
    "\\end{equation}\n",
    "\n",
    "and the *t*-test statistic is then given by:\n",
    "\n",
    "\\begin{equation}\n",
    "t = \\frac{\\bar{x}_0 - \\bar{x}_1}{s_p \\sqrt{1/n_0 + 1/n_1}}.\n",
    "\\end{equation}\n",
    "\n",
    "(If you need some reminding of the general definition of ***t-statistic***, check out the definition on p. 404 of *AoS*). \n",
    "\n",
    "What assumption about the variances of the two groups are we making here?"
   ]
  },
  {
   "cell_type": "markdown",
   "metadata": {},
   "source": [
    "__A:__ \n",
    "Null Hypothesis: detect no difference\n",
    "Alternative Hypothesis: detect difference\n",
    "\n",
    "Two sample T-test: the objective is to detect a difference in the means\n",
    "\n",
    "we detected a difference were Admin believed that mean was 12k but was 13k. "
   ]
  },
  {
   "cell_type": "markdown",
   "metadata": {},
   "source": [
    "__Q5:__ Perform this hypothesis test both manually, using the above formulae, and then using the appropriate function from [scipy.stats](https://docs.scipy.org/doc/scipy/reference/stats.html#statistical-tests) (hint, you're looking for a function to perform a _t_-test on two independent samples). For the manual approach, calculate the value of the test statistic and then its probability (the p-value). Verify you get the same results from both."
   ]
  },
  {
   "cell_type": "markdown",
   "metadata": {},
   "source": [
    "__A:__ "
   ]
  },
  {
   "cell_type": "code",
   "execution_count": 60,
   "metadata": {},
   "outputs": [
    {
     "name": "stdout",
     "output_type": "stream",
     "text": [
      "T-statistic: 11.893299030876712\n",
      "P-value: 4.461230231620717e-31\n",
      "Reject the null hypothesis: there is a significant difference between the two groups.\n"
     ]
    }
   ],
   "source": [
    "#preform t test\n",
    "# Subset the data into two groups\n",
    "# Subset the data into two groups using the correct column name for insurance status\n",
    "from scipy import stats\n",
    "\n",
    "insured = medical_copy[medical_copy['insuranceclaim'] == 1]['charges']\n",
    "uninsured = medical_copy[medical_copy['insuranceclaim'] == 0]['charges']\n",
    "\n",
    "# Perform an independent t-test\n",
    "t_stat, p_value = stats.ttest_ind(insured, uninsured)\n",
    "\n",
    "# Print the t-statistic and p-value\n",
    "print(f'T-statistic: {t_stat}')\n",
    "print(f'P-value: {p_value}')\n",
    "\n",
    "# Interpretation\n",
    "alpha = 0.05\n",
    "if p_value < alpha:\n",
    "    print(\"Reject the null hypothesis: there is a significant difference between the two groups.\")\n",
    "else:\n",
    "    print(\"Fail to reject the null hypothesis: no significant difference.\")\n",
    "\n"
   ]
  },
  {
   "cell_type": "code",
   "execution_count": 62,
   "metadata": {},
   "outputs": [
    {
     "name": "stdout",
     "output_type": "stream",
     "text": [
      "Pooled Standard Deviation:  11520.034268775256\n"
     ]
    }
   ],
   "source": [
    "#calculating Pooled STD\n",
    "#number each group\n",
    "n1 = len(insured)\n",
    "n2 = len(uninsured)\n",
    "\n",
    "# Calculate the standard deviations of both groups\n",
    "std1 = np.std(insured, ddof=1)  # Sample std deviation\n",
    "std2 = np.std(uninsured, ddof=1)\n",
    "\n",
    "# Pooled standard deviation\n",
    "pooled_std = np.sqrt(((n1 - 1) * std1 ** 2 + (n2 - 1) * std2 ** 2) / (n1 + n2 - 2))\n",
    "\n",
    "print(f'Pooled Standard Deviation: ', pooled_std)"
   ]
  },
  {
   "cell_type": "markdown",
   "metadata": {},
   "source": [
    "Congratulations! Hopefully you got the exact same numerical results. This shows that you correctly calculated the numbers by hand. Secondly, you used the correct function and saw that it's much easier to use. All you need to do is pass your data to it."
   ]
  },
  {
   "cell_type": "markdown",
   "metadata": {},
   "source": [
    "__Q6:__ Conceptual question: look through the documentation for statistical test functions in scipy.stats. You'll see the above _t_-test for a sample, but can you see an equivalent one for performing a *z*-test from a sample? Comment on your answer."
   ]
  },
  {
   "cell_type": "markdown",
   "metadata": {},
   "source": [
    "__A:__"
   ]
  },
  {
   "cell_type": "code",
   "execution_count": null,
   "metadata": {},
   "outputs": [],
   "source": [
    "# while I see the function of using t test which it testing a smaller sample size. Whereas the use of Z test is that you're testing a \n",
    "#larger sample size and this creates a representation of a normal population which is large enough for CLT. \n",
    "# to do an equivalent sample test in Z I would do two sample test of Charges vs insurance claim to see how the cost affect those who don't\n",
    "#have an insurance claim. Should people on average have insurance? "
   ]
  },
  {
   "cell_type": "markdown",
   "metadata": {},
   "source": [
    "## Learning outcomes"
   ]
  },
  {
   "cell_type": "markdown",
   "metadata": {},
   "source": [
    "Having completed this project notebook, you now have good hands-on experience:\n",
    "* using the central limit theorem to help you apply frequentist techniques to answer questions that pertain to very non-normally distributed data from the real world\n",
    "* performing inference using such data to answer business questions\n",
    "* forming a hypothesis and framing the null and alternative hypotheses\n",
    "* testing this using a _t_-test"
   ]
  }
 ],
 "metadata": {
  "kernelspec": {
   "display_name": "Python 3 (ipykernel)",
   "language": "python",
   "name": "python3"
  },
  "language_info": {
   "codemirror_mode": {
    "name": "ipython",
    "version": 3
   },
   "file_extension": ".py",
   "mimetype": "text/x-python",
   "name": "python",
   "nbconvert_exporter": "python",
   "pygments_lexer": "ipython3",
   "version": "3.11.7"
  }
 },
 "nbformat": 4,
 "nbformat_minor": 4
}
